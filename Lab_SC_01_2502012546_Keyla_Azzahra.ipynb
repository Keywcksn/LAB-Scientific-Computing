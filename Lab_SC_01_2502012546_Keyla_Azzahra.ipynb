{
  "nbformat": 4,
  "nbformat_minor": 0,
  "metadata": {
    "colab": {
      "name": "Lab - SC 01 - 2502012546 - Keyla Azzahra",
      "provenance": [],
      "collapsed_sections": [],
      "authorship_tag": "ABX9TyPvIeAQAYXborykNukzUXFV",
      "include_colab_link": true
    },
    "kernelspec": {
      "name": "python3",
      "display_name": "Python 3"
    },
    "language_info": {
      "name": "python"
    }
  },
  "cells": [
    {
      "cell_type": "markdown",
      "metadata": {
        "id": "view-in-github",
        "colab_type": "text"
      },
      "source": [
        "<a href=\"https://colab.research.google.com/github/Keywcksn/LAB-Scientific-Computing2/blob/main/Lab_SC_01_2502012546_Keyla_Azzahra.ipynb\" target=\"_parent\"><img src=\"https://colab.research.google.com/assets/colab-badge.svg\" alt=\"Open In Colab\"/></a>"
      ]
    },
    {
      "cell_type": "code",
      "source": [
        "def my_adder(a,b,c):\n",
        "    \"\"\"\n",
        "    function to sum 3 numbers\n",
        "    Input: 3 numbers a,b,c\n",
        "    Output: the sum of a,b,c\n",
        "    author: 1060003624\n",
        "    date: today\n",
        "    \"\"\"\n",
        "\n",
        "    #this is the summation\n",
        "    out = a+b+c\n",
        "\n",
        "    return out"
      ],
      "metadata": {
        "id": "OXPJ_TuXdwc-"
      },
      "execution_count": 9,
      "outputs": []
    },
    {
      "cell_type": "code",
      "source": [
        "my_adder(3,5,7)"
      ],
      "metadata": {
        "colab": {
          "base_uri": "https://localhost:8080/"
        },
        "id": "3DWyenDuhOb3",
        "outputId": "94822b7a-b6f1-450f-8169-3b60f883ad6b"
      },
      "execution_count": 10,
      "outputs": [
        {
          "output_type": "execute_result",
          "data": {
            "text/plain": [
              "15"
            ]
          },
          "metadata": {},
          "execution_count": 10
        }
      ]
    },
    {
      "cell_type": "code",
      "source": [
        "def thermostat(temp,desired_temp):\n",
        "  if temp < desired_temp - 5:\n",
        "    status = 'Heat'\n",
        "  elif temp > desired_temp + 5:\n",
        "    status = 'AC'\n",
        "  else:\n",
        "    status = 'off'\n",
        "\n",
        "  return status "
      ],
      "metadata": {
        "id": "sAsoSpx6ievg"
      },
      "execution_count": 14,
      "outputs": []
    },
    {
      "cell_type": "code",
      "source": [
        "status = thermostat(50,60)\n",
        "status"
      ],
      "metadata": {
        "colab": {
          "base_uri": "https://localhost:8080/",
          "height": 35
        },
        "id": "6wAJxWKki4NN",
        "outputId": "10abfb25-2d9b-4057-adb4-514fe45f109e"
      },
      "execution_count": 20,
      "outputs": [
        {
          "output_type": "execute_result",
          "data": {
            "application/vnd.google.colaboratory.intrinsic+json": {
              "type": "string"
            },
            "text/plain": [
              "'Heat'"
            ]
          },
          "metadata": {},
          "execution_count": 20
        }
      ]
    },
    {
      "cell_type": "code",
      "source": [
        "  x = 1.5\n",
        "  if x>1 and x<2:\n",
        "    y = 2\n",
        "  elif x>2 and x<4:\n",
        "    y = 4\n",
        "  else:\n",
        "    y = 0\n",
        "  \n",
        "  print(y)"
      ],
      "metadata": {
        "colab": {
          "base_uri": "https://localhost:8080/"
        },
        "id": "Xk02GboekLgi",
        "outputId": "c126ae69-cabc-4d1c-b1eb-f07c4d8b5830"
      },
      "execution_count": 28,
      "outputs": [
        {
          "output_type": "stream",
          "name": "stdout",
          "text": [
            "2\n"
          ]
        }
      ]
    }
  ]
}