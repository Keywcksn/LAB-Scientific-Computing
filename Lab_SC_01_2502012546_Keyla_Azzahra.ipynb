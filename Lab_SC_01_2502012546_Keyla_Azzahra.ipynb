{
  "nbformat": 4,
  "nbformat_minor": 0,
  "metadata": {
    "colab": {
      "name": "Lab - SC 01 - 2502012546 - Keyla Azzahra",
      "provenance": [],
      "collapsed_sections": [],
      "authorship_tag": "ABX9TyOlJdT7QKaKlvOtZ+VxL4/n",
      "include_colab_link": true
    },
    "kernelspec": {
      "name": "python3",
      "display_name": "Python 3"
    },
    "language_info": {
      "name": "python"
    }
  },
  "cells": [
    {
      "cell_type": "markdown",
      "metadata": {
        "id": "view-in-github",
        "colab_type": "text"
      },
      "source": [
        "<a href=\"https://colab.research.google.com/github/Keywcksn/LAB-Scientific-Computing/blob/main/Lab_SC_01_2502012546_Keyla_Azzahra.ipynb\" target=\"_parent\"><img src=\"https://colab.research.google.com/assets/colab-badge.svg\" alt=\"Open In Colab\"/></a>"
      ]
    },
    {
      "cell_type": "code",
      "source": [
        "x = 1\n",
        "x"
      ],
      "metadata": {
        "id": "Ye9h5-HUFvuT",
        "outputId": "7fbf4769-2ae6-4313-9f7f-1b25c44359c3",
        "colab": {
          "base_uri": "https://localhost:8080/"
        }
      },
      "execution_count": null,
      "outputs": [
        {
          "output_type": "execute_result",
          "data": {
            "text/plain": [
              "1"
            ]
          },
          "metadata": {},
          "execution_count": 1
        }
      ]
    },
    {
      "cell_type": "code",
      "source": [
        "x = x + 1\n",
        "x"
      ],
      "metadata": {
        "colab": {
          "base_uri": "https://localhost:8080/"
        },
        "id": "gVHUR2lsGGWa",
        "outputId": "a166f614-d689-444c-9ed0-525d94fdb662"
      },
      "execution_count": 2,
      "outputs": [
        {
          "output_type": "execute_result",
          "data": {
            "text/plain": [
              "2"
            ]
          },
          "metadata": {},
          "execution_count": 2
        }
      ]
    },
    {
      "cell_type": "code",
      "source": [
        "x = 1\n",
        "y = x + 1\n",
        "x = 2\n",
        "y"
      ],
      "metadata": {
        "colab": {
          "base_uri": "https://localhost:8080/"
        },
        "id": "0vXSPgaOGJ5c",
        "outputId": "5b3c9de0-7242-4704-b263-bc185985b611"
      },
      "execution_count": 3,
      "outputs": [
        {
          "output_type": "execute_result",
          "data": {
            "text/plain": [
              "2"
            ]
          },
          "metadata": {},
          "execution_count": 3
        }
      ]
    },
    {
      "cell_type": "code",
      "source": [
        "import numpy as np"
      ],
      "metadata": {
        "id": "hsjnMpTeGefp"
      },
      "execution_count": 5,
      "outputs": []
    },
    {
      "cell_type": "code",
      "source": [
        "x = np.array([1, 4, 3])\n",
        "x"
      ],
      "metadata": {
        "colab": {
          "base_uri": "https://localhost:8080/"
        },
        "id": "ys0qJU5YGYVA",
        "outputId": "34354acf-6557-483f-836c-0ba9d4933a8a"
      },
      "execution_count": 6,
      "outputs": [
        {
          "output_type": "execute_result",
          "data": {
            "text/plain": [
              "array([1, 4, 3])"
            ]
          },
          "metadata": {},
          "execution_count": 6
        }
      ]
    },
    {
      "cell_type": "code",
      "source": [
        "y = np.array([[1, 4, 3], [9, 2, 7]])\n",
        "y"
      ],
      "metadata": {
        "colab": {
          "base_uri": "https://localhost:8080/"
        },
        "id": "pyTntdGJGkwj",
        "outputId": "d4ee07b2-372c-4791-dd4b-83ce535b5b48"
      },
      "execution_count": 7,
      "outputs": [
        {
          "output_type": "execute_result",
          "data": {
            "text/plain": [
              "array([[1, 4, 3],\n",
              "       [9, 2, 7]])"
            ]
          },
          "metadata": {},
          "execution_count": 7
        }
      ]
    },
    {
      "cell_type": "code",
      "source": [
        "def my_adder(a,b,c):\n",
        "    \"\"\"\n",
        "    function to sum 3 numbers\n",
        "    Input: 3 numbers a,b,c\n",
        "    Output: the sum of a,b,c\n",
        "    author: 1060003624\n",
        "    date: today\n",
        "    \"\"\"\n",
        "\n",
        "    #this is the summation\n",
        "    out = a+b+c\n",
        "\n",
        "    return out"
      ],
      "metadata": {
        "id": "OXPJ_TuXdwc-"
      },
      "execution_count": null,
      "outputs": []
    },
    {
      "cell_type": "code",
      "source": [
        "my_adder(3,5,7)"
      ],
      "metadata": {
        "colab": {
          "base_uri": "https://localhost:8080/"
        },
        "id": "3DWyenDuhOb3",
        "outputId": "94822b7a-b6f1-450f-8169-3b60f883ad6b"
      },
      "execution_count": null,
      "outputs": [
        {
          "output_type": "execute_result",
          "data": {
            "text/plain": [
              "15"
            ]
          },
          "metadata": {},
          "execution_count": 10
        }
      ]
    },
    {
      "cell_type": "code",
      "source": [
        "def thermostat(temp,desired_temp):\n",
        "  if temp < desired_temp - 5:\n",
        "    status = 'Heat'\n",
        "  elif temp > desired_temp + 5:\n",
        "    status = 'AC'\n",
        "  else:\n",
        "    status = 'off'\n",
        "\n",
        "  return status "
      ],
      "metadata": {
        "id": "sAsoSpx6ievg"
      },
      "execution_count": null,
      "outputs": []
    },
    {
      "cell_type": "code",
      "source": [
        "status = thermostat(50,60)\n",
        "status"
      ],
      "metadata": {
        "colab": {
          "base_uri": "https://localhost:8080/",
          "height": 35
        },
        "id": "6wAJxWKki4NN",
        "outputId": "10abfb25-2d9b-4057-adb4-514fe45f109e"
      },
      "execution_count": null,
      "outputs": [
        {
          "output_type": "execute_result",
          "data": {
            "application/vnd.google.colaboratory.intrinsic+json": {
              "type": "string"
            },
            "text/plain": [
              "'Heat'"
            ]
          },
          "metadata": {},
          "execution_count": 20
        }
      ]
    },
    {
      "cell_type": "code",
      "source": [
        "  x = 3\n",
        "  if x>1 and x<2:\n",
        "    y = 2\n",
        "  elif x>2 and x<4:\n",
        "    y = 4\n",
        "  else:\n",
        "    y = 0\n",
        "  \n",
        "  print(y)"
      ],
      "metadata": {
        "colab": {
          "base_uri": "https://localhost:8080/"
        },
        "id": "Xk02GboekLgi",
        "outputId": "7b0fd6df-d22e-4ba6-937e-31a71815fb99"
      },
      "execution_count": null,
      "outputs": [
        {
          "output_type": "stream",
          "name": "stdout",
          "text": [
            "4\n"
          ]
        }
      ]
    },
    {
      "cell_type": "code",
      "source": [
        "x = 3\n",
        "if 1<x<2:\n",
        "  y = 2\n",
        "elif 2<x<4:\n",
        "  y = 4\n",
        "else:\n",
        "  y = 0\n",
        "\n",
        "print(y)"
      ],
      "metadata": {
        "colab": {
          "base_uri": "https://localhost:8080/"
        },
        "id": "0hwSPh7v0cgF",
        "outputId": "aa48340e-e450-4c3c-e4bb-c81fb9b94b97"
      },
      "execution_count": null,
      "outputs": [
        {
          "output_type": "stream",
          "name": "stdout",
          "text": [
            "4\n"
          ]
        }
      ]
    }
  ]
}