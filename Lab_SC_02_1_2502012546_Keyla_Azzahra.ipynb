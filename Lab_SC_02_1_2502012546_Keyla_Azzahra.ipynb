{
  "nbformat": 4,
  "nbformat_minor": 0,
  "metadata": {
    "colab": {
      "name": "Lab - SC 02.1 - 2502012546 - Keyla Azzahra",
      "provenance": [],
      "collapsed_sections": [],
      "authorship_tag": "ABX9TyMGhN9RO0Rz4zS7wojvoert",
      "include_colab_link": true
    },
    "kernelspec": {
      "name": "python3",
      "display_name": "Python 3"
    },
    "language_info": {
      "name": "python"
    }
  },
  "cells": [
    {
      "cell_type": "markdown",
      "metadata": {
        "id": "view-in-github",
        "colab_type": "text"
      },
      "source": [
        "<a href=\"https://colab.research.google.com/github/Keywcksn/LAB-Scientific-Computing/blob/main/Lab_SC_02_1_2502012546_Keyla_Azzahra.ipynb\" target=\"_parent\"><img src=\"https://colab.research.google.com/assets/colab-badge.svg\" alt=\"Open In Colab\"/></a>"
      ]
    },
    {
      "cell_type": "code",
      "source": [
        "import time\n",
        "print(time.ctime())"
      ],
      "metadata": {
        "id": "Fd6kchHynup9",
        "outputId": "d61a7dce-2210-4a36-f984-f15a0921da3d",
        "colab": {
          "base_uri": "https://localhost:8080/"
        }
      },
      "execution_count": null,
      "outputs": [
        {
          "output_type": "stream",
          "name": "stdout",
          "text": [
            "Fri Mar 11 06:16:23 2022\n"
          ]
        }
      ]
    },
    {
      "cell_type": "code",
      "execution_count": 1,
      "metadata": {
        "id": "bbLhmslalfrn"
      },
      "outputs": [],
      "source": [
        "import numpy as np"
      ]
    },
    {
      "cell_type": "code",
      "source": [
        "a = [[8, 3, -3], [-2, -8, 5], [3, 5, 10]]\n",
        "\n",
        "#find diagonal coefficients\n",
        "diag = np.diag(np.abs(a))\n",
        "\n",
        "#find row of sum without diagonal\n",
        "off_diag = np.sum(np.abs(a))\n",
        "\n",
        "if np.all(diag > off_diag) :\n",
        "  print('Matrix is diagonally dominant')\n",
        "else :\n",
        "  print('NOT diagonally dominant')"
      ],
      "metadata": {
        "colab": {
          "base_uri": "https://localhost:8080/"
        },
        "id": "QYBzj03_nBH3",
        "outputId": "bb120f8b-a55b-46cd-a49e-069bd6408bfc"
      },
      "execution_count": null,
      "outputs": [
        {
          "output_type": "stream",
          "name": "stdout",
          "text": [
            "NOT diagonally dominant\n"
          ]
        }
      ]
    },
    {
      "cell_type": "code",
      "source": [
        "x1 = 0\n",
        "x2 = 0\n",
        "x3 = 0\n",
        "epsilon = 0.01\n",
        "converged = False\n",
        "\n",
        "x_old = np.array([x1, x2, x3])"
      ],
      "metadata": {
        "id": "GlegkVCuLWt8"
      },
      "execution_count": 2,
      "outputs": []
    },
    {
      "cell_type": "code",
      "source": [
        "print('Iteration Results')\n",
        "print(' k,  x1, x2, x3')\n",
        "\n",
        "for k in range(1, 50):\n",
        "  x1 = (14-3*x2+3*x3)/8\n",
        "  x2 = (5+2*x1-5*x3)/(-8)\n",
        "  x3 = (-8-3*x1-5*x2)/10\n",
        "  x = np.array([x1, x2, x3])\n",
        "\n",
        "  #check if it's smaller than the threshold\n",
        "  dx = np.sqrt(np.dot(x-x_old, x-x_old))\n",
        "\n",
        "  print(\"%d, %.4f, %.4f, %.4f\" %(k, x1, x2, x3))\n",
        "  if dx < epsilon :\n",
        "    converged = True\n",
        "    print('Converged!')\n",
        "    break\n",
        "\n",
        "  #assign the latest x value to the old value\n",
        "  x_old = x\n",
        "\n",
        "if not converged :\n",
        "  print('Not Converge, increase the # of iterations')\n",
        "\n"
      ],
      "metadata": {
        "id": "CcUvJhurMGZK",
        "colab": {
          "base_uri": "https://localhost:8080/"
        },
        "outputId": "2680c3c5-41d9-4c7e-fc37-807d74401be6"
      },
      "execution_count": 5,
      "outputs": [
        {
          "output_type": "stream",
          "name": "stdout",
          "text": [
            "Iteration Results\n",
            " k,  x1, x2, x3\n",
            "1, 1.8508, -1.5838, -0.5633\n",
            "2, 2.1327, -1.5103, -0.6847\n",
            "3, 2.0596, -1.5678, -0.6340\n",
            "4, 2.1002, -1.5463, -0.6569\n",
            "5, 2.0835, -1.5565, -0.6468\n",
            "6, 2.0911, -1.5520, -0.6513\n",
            "Converged!\n"
          ]
        }
      ]
    }
  ]
}